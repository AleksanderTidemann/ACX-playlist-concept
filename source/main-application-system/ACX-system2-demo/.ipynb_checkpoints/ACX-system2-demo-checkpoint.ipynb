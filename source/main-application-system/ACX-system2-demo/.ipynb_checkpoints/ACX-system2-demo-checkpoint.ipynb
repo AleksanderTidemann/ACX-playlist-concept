{
 "cells": [
  {
   "cell_type": "markdown",
   "metadata": {},
   "source": [
    "# System 2"
   ]
  },
  {
   "cell_type": "code",
   "execution_count": 69,
   "metadata": {},
   "outputs": [],
   "source": [
    "import pandas as pd\n",
    "import numpy as np"
   ]
  },
  {
   "cell_type": "markdown",
   "metadata": {},
   "source": [
    "# Emotional Categories\n",
    "In this system, we have the same emotional categories as system 1, but we can also simply use emojis, or any other emotional category we want to track."
   ]
  },
  {
   "cell_type": "code",
   "execution_count": 70,
   "metadata": {},
   "outputs": [],
   "source": [
    "#emotions = [\":)\", \":|\", \":/\", \":(\", \":$\"]\n",
    "emotions = [\"amazement\", \"solemnity\", \"tenderness\", \"nostalgia\",\"calmness\",\"power\", \"joyful_activation\", \"tension\", \"sadness\"]"
   ]
  },
  {
   "cell_type": "markdown",
   "metadata": {},
   "source": [
    "# Audio Features\n",
    "To be able to track what audio characteristics a user associates with a given emotional category, we need to extract some *high-dimensional* audio features. For instance, features like \"danceability\" can be understood as *high-dimensional* because its built \"on-top\" of other basic features. "
   ]
  },
  {
   "cell_type": "code",
   "execution_count": 71,
   "metadata": {},
   "outputs": [],
   "source": [
    "#Avaliable features, these are the features we extract from each track in the database\n",
    "features = [\"110-120bpm\", \"moll\", \"dur\", \"akustisk\", \"instrumental\", \"dansbar\"]"
   ]
  },
  {
   "cell_type": "markdown",
   "metadata": {},
   "source": [
    "# Dataset \n",
    "The dataset in system 2 differs from system 1 as it does **not** require emotional annotations to be added to the tracks in the dataset. It only requires that we extract and add the audio features previously mentioned.\n",
    "\n",
    "For this demonstration, let us consider a small dataset with 9 tracks that all have some features associated with them (represented by the of value 1):\n",
    "\n",
    "<img src=\"dataset.jpg\" alt=\"audio features\" width=\"600\"/>"
   ]
  },
  {
   "cell_type": "code",
   "execution_count": 72,
   "metadata": {},
   "outputs": [],
   "source": [
    "#For the program, we will represent the dataset as such:\n",
    "database = {\n",
    "    1 : [\"110-120bpm\", \"moll\", \"akustisk\", \"instrumental\"],\n",
    "    2 : [\"moll\", \"akustisk\"],\n",
    "    3 : [\"dur\", \"akustisk\", \"instrumental\"],\n",
    "    4 : [\"110-120bpm\", \"dur\", \"akustisk\", \"instrumental\"],\n",
    "    5 : [\"110-120bpm\", \"moll\", \"instrumental\", \"dansbar\"],\n",
    "    6 : [\"dansbar\"],\n",
    "    7 : [\"moll\"],\n",
    "    8 : [\"110-120bpm\", \"instrumental\"],\n",
    "    9 : [\"akustisk\", \"dur\"]\n",
    "}"
   ]
  },
  {
   "cell_type": "markdown",
   "metadata": {},
   "source": [
    "# User profile\n",
    "The user-profiles are simply a diagram that maps which audio features a user associates with the emotional catagories. This \"association process\" is done by adding +1 to the appropriate cell in the diagram. The higher the number in the cell, the more the user associates that particular audio feature with that particular emotion.  \n",
    "\n",
    "Lets visualize what an empty user-profile looks like:"
   ]
  },
  {
   "cell_type": "code",
   "execution_count": 73,
   "metadata": {},
   "outputs": [
    {
     "data": {
      "text/html": [
       "<div>\n",
       "<style scoped>\n",
       "    .dataframe tbody tr th:only-of-type {\n",
       "        vertical-align: middle;\n",
       "    }\n",
       "\n",
       "    .dataframe tbody tr th {\n",
       "        vertical-align: top;\n",
       "    }\n",
       "\n",
       "    .dataframe thead th {\n",
       "        text-align: right;\n",
       "    }\n",
       "</style>\n",
       "<table border=\"1\" class=\"dataframe\">\n",
       "  <thead>\n",
       "    <tr style=\"text-align: right;\">\n",
       "      <th></th>\n",
       "      <th>amazement</th>\n",
       "      <th>solemnity</th>\n",
       "      <th>tenderness</th>\n",
       "      <th>nostalgia</th>\n",
       "      <th>calmness</th>\n",
       "      <th>power</th>\n",
       "      <th>joyful_activation</th>\n",
       "      <th>tension</th>\n",
       "      <th>sadness</th>\n",
       "    </tr>\n",
       "  </thead>\n",
       "  <tbody>\n",
       "    <tr>\n",
       "      <td>110-120bpm</td>\n",
       "      <td>0.0</td>\n",
       "      <td>0.0</td>\n",
       "      <td>0.0</td>\n",
       "      <td>0.0</td>\n",
       "      <td>0.0</td>\n",
       "      <td>0.0</td>\n",
       "      <td>0.0</td>\n",
       "      <td>0.0</td>\n",
       "      <td>0.0</td>\n",
       "    </tr>\n",
       "    <tr>\n",
       "      <td>moll</td>\n",
       "      <td>0.0</td>\n",
       "      <td>0.0</td>\n",
       "      <td>0.0</td>\n",
       "      <td>0.0</td>\n",
       "      <td>0.0</td>\n",
       "      <td>0.0</td>\n",
       "      <td>0.0</td>\n",
       "      <td>0.0</td>\n",
       "      <td>0.0</td>\n",
       "    </tr>\n",
       "    <tr>\n",
       "      <td>dur</td>\n",
       "      <td>0.0</td>\n",
       "      <td>0.0</td>\n",
       "      <td>0.0</td>\n",
       "      <td>0.0</td>\n",
       "      <td>0.0</td>\n",
       "      <td>0.0</td>\n",
       "      <td>0.0</td>\n",
       "      <td>0.0</td>\n",
       "      <td>0.0</td>\n",
       "    </tr>\n",
       "    <tr>\n",
       "      <td>akustisk</td>\n",
       "      <td>0.0</td>\n",
       "      <td>0.0</td>\n",
       "      <td>0.0</td>\n",
       "      <td>0.0</td>\n",
       "      <td>0.0</td>\n",
       "      <td>0.0</td>\n",
       "      <td>0.0</td>\n",
       "      <td>0.0</td>\n",
       "      <td>0.0</td>\n",
       "    </tr>\n",
       "    <tr>\n",
       "      <td>instrumental</td>\n",
       "      <td>0.0</td>\n",
       "      <td>0.0</td>\n",
       "      <td>0.0</td>\n",
       "      <td>0.0</td>\n",
       "      <td>0.0</td>\n",
       "      <td>0.0</td>\n",
       "      <td>0.0</td>\n",
       "      <td>0.0</td>\n",
       "      <td>0.0</td>\n",
       "    </tr>\n",
       "    <tr>\n",
       "      <td>dansbar</td>\n",
       "      <td>0.0</td>\n",
       "      <td>0.0</td>\n",
       "      <td>0.0</td>\n",
       "      <td>0.0</td>\n",
       "      <td>0.0</td>\n",
       "      <td>0.0</td>\n",
       "      <td>0.0</td>\n",
       "      <td>0.0</td>\n",
       "      <td>0.0</td>\n",
       "    </tr>\n",
       "  </tbody>\n",
       "</table>\n",
       "</div>"
      ],
      "text/plain": [
       "              amazement  solemnity  tenderness  nostalgia  calmness  power  \\\n",
       "110-120bpm          0.0        0.0         0.0        0.0       0.0    0.0   \n",
       "moll                0.0        0.0         0.0        0.0       0.0    0.0   \n",
       "dur                 0.0        0.0         0.0        0.0       0.0    0.0   \n",
       "akustisk            0.0        0.0         0.0        0.0       0.0    0.0   \n",
       "instrumental        0.0        0.0         0.0        0.0       0.0    0.0   \n",
       "dansbar             0.0        0.0         0.0        0.0       0.0    0.0   \n",
       "\n",
       "              joyful_activation  tension  sadness  \n",
       "110-120bpm                  0.0      0.0      0.0  \n",
       "moll                        0.0      0.0      0.0  \n",
       "dur                         0.0      0.0      0.0  \n",
       "akustisk                    0.0      0.0      0.0  \n",
       "instrumental                0.0      0.0      0.0  \n",
       "dansbar                     0.0      0.0      0.0  "
      ]
     },
     "execution_count": 73,
     "metadata": {},
     "output_type": "execute_result"
    }
   ],
   "source": [
    "zero = np.zeros(shape=(len(features),len(emotions)))\n",
    "user_emo_chart = pd.DataFrame(zero, index=features, columns=emotions)\n",
    "user_emo_chart"
   ]
  },
  {
   "cell_type": "code",
   "execution_count": 74,
   "metadata": {},
   "outputs": [],
   "source": [
    "#This function does that rating (+1) to the user-profiles where needed\n",
    "def add_track(track_id, emolist):\n",
    "    for emo in emolist:\n",
    "        for item in database[track_id]: \n",
    "            user_emo_chart[emo][item] += 1"
   ]
  },
  {
   "cell_type": "markdown",
   "metadata": {},
   "source": [
    "# Lets rate some tracks!"
   ]
  },
  {
   "cell_type": "code",
   "execution_count": 75,
   "metadata": {},
   "outputs": [],
   "source": [
    "add_track(4, [\"amazement\", \"power\"])\n",
    "\n",
    "add_track(6, [\"tenderness\"])\n",
    "\n",
    "add_track(9, [\"power\", \"joyful_activation\"])\n",
    "\n",
    "add_track(1, [\"amazement\"])\n",
    "\n",
    "add_track(2, [\"sadness\"])"
   ]
  },
  {
   "cell_type": "markdown",
   "metadata": {},
   "source": [
    "Lets now visualize how the user-profile looks after the rating process"
   ]
  },
  {
   "cell_type": "code",
   "execution_count": 77,
   "metadata": {},
   "outputs": [
    {
     "data": {
      "text/html": [
       "<div>\n",
       "<style scoped>\n",
       "    .dataframe tbody tr th:only-of-type {\n",
       "        vertical-align: middle;\n",
       "    }\n",
       "\n",
       "    .dataframe tbody tr th {\n",
       "        vertical-align: top;\n",
       "    }\n",
       "\n",
       "    .dataframe thead th {\n",
       "        text-align: right;\n",
       "    }\n",
       "</style>\n",
       "<table border=\"1\" class=\"dataframe\">\n",
       "  <thead>\n",
       "    <tr style=\"text-align: right;\">\n",
       "      <th></th>\n",
       "      <th>amazement</th>\n",
       "      <th>solemnity</th>\n",
       "      <th>tenderness</th>\n",
       "      <th>nostalgia</th>\n",
       "      <th>calmness</th>\n",
       "      <th>power</th>\n",
       "      <th>joyful_activation</th>\n",
       "      <th>tension</th>\n",
       "      <th>sadness</th>\n",
       "    </tr>\n",
       "  </thead>\n",
       "  <tbody>\n",
       "    <tr>\n",
       "      <td>110-120bpm</td>\n",
       "      <td>2.0</td>\n",
       "      <td>0.0</td>\n",
       "      <td>0.0</td>\n",
       "      <td>0.0</td>\n",
       "      <td>0.0</td>\n",
       "      <td>1.0</td>\n",
       "      <td>0.0</td>\n",
       "      <td>0.0</td>\n",
       "      <td>0.0</td>\n",
       "    </tr>\n",
       "    <tr>\n",
       "      <td>moll</td>\n",
       "      <td>1.0</td>\n",
       "      <td>0.0</td>\n",
       "      <td>0.0</td>\n",
       "      <td>0.0</td>\n",
       "      <td>0.0</td>\n",
       "      <td>0.0</td>\n",
       "      <td>0.0</td>\n",
       "      <td>0.0</td>\n",
       "      <td>1.0</td>\n",
       "    </tr>\n",
       "    <tr>\n",
       "      <td>dur</td>\n",
       "      <td>1.0</td>\n",
       "      <td>0.0</td>\n",
       "      <td>0.0</td>\n",
       "      <td>0.0</td>\n",
       "      <td>0.0</td>\n",
       "      <td>2.0</td>\n",
       "      <td>1.0</td>\n",
       "      <td>0.0</td>\n",
       "      <td>0.0</td>\n",
       "    </tr>\n",
       "    <tr>\n",
       "      <td>akustisk</td>\n",
       "      <td>2.0</td>\n",
       "      <td>0.0</td>\n",
       "      <td>0.0</td>\n",
       "      <td>0.0</td>\n",
       "      <td>0.0</td>\n",
       "      <td>2.0</td>\n",
       "      <td>1.0</td>\n",
       "      <td>0.0</td>\n",
       "      <td>1.0</td>\n",
       "    </tr>\n",
       "    <tr>\n",
       "      <td>instrumental</td>\n",
       "      <td>2.0</td>\n",
       "      <td>0.0</td>\n",
       "      <td>0.0</td>\n",
       "      <td>0.0</td>\n",
       "      <td>0.0</td>\n",
       "      <td>1.0</td>\n",
       "      <td>0.0</td>\n",
       "      <td>0.0</td>\n",
       "      <td>0.0</td>\n",
       "    </tr>\n",
       "    <tr>\n",
       "      <td>dansbar</td>\n",
       "      <td>0.0</td>\n",
       "      <td>0.0</td>\n",
       "      <td>1.0</td>\n",
       "      <td>0.0</td>\n",
       "      <td>0.0</td>\n",
       "      <td>0.0</td>\n",
       "      <td>0.0</td>\n",
       "      <td>0.0</td>\n",
       "      <td>0.0</td>\n",
       "    </tr>\n",
       "  </tbody>\n",
       "</table>\n",
       "</div>"
      ],
      "text/plain": [
       "              amazement  solemnity  tenderness  nostalgia  calmness  power  \\\n",
       "110-120bpm          2.0        0.0         0.0        0.0       0.0    1.0   \n",
       "moll                1.0        0.0         0.0        0.0       0.0    0.0   \n",
       "dur                 1.0        0.0         0.0        0.0       0.0    2.0   \n",
       "akustisk            2.0        0.0         0.0        0.0       0.0    2.0   \n",
       "instrumental        2.0        0.0         0.0        0.0       0.0    1.0   \n",
       "dansbar             0.0        0.0         1.0        0.0       0.0    0.0   \n",
       "\n",
       "              joyful_activation  tension  sadness  \n",
       "110-120bpm                  0.0      0.0      0.0  \n",
       "moll                        0.0      0.0      1.0  \n",
       "dur                         1.0      0.0      0.0  \n",
       "akustisk                    1.0      0.0      1.0  \n",
       "instrumental                0.0      0.0      0.0  \n",
       "dansbar                     0.0      0.0      0.0  "
      ]
     },
     "execution_count": 77,
     "metadata": {},
     "output_type": "execute_result"
    }
   ],
   "source": [
    "user_emo_chart"
   ]
  },
  {
   "cell_type": "markdown",
   "metadata": {},
   "source": [
    "Note that we can already spot some patterns. For instance, it seems that the user often associates tracks with 110-120bpm to be \"amazement\".  "
   ]
  },
  {
   "cell_type": "code",
   "execution_count": null,
   "metadata": {},
   "outputs": [],
   "source": [
    "#df_database = pd.DataFrame(database, index=database, columns=features)\n",
    "#for col in df_database:\n",
    "#    for row in range(1, df_database.shape[0]+1):\n",
    "#        if col in database[row]:\n",
    "#            for item in database[row]:\n",
    "#                df_database.at[row, col] = 1\n",
    "#        else:\n",
    "#            df_database.at[row, col] = 0\n",
    "#df_database"
   ]
  }
 ],
 "metadata": {
  "kernelspec": {
   "display_name": "Python 3",
   "language": "python",
   "name": "python3"
  },
  "language_info": {
   "codemirror_mode": {
    "name": "ipython",
    "version": 3
   },
   "file_extension": ".py",
   "mimetype": "text/x-python",
   "name": "python",
   "nbconvert_exporter": "python",
   "pygments_lexer": "ipython3",
   "version": "3.7.6"
  }
 },
 "nbformat": 4,
 "nbformat_minor": 4
}
