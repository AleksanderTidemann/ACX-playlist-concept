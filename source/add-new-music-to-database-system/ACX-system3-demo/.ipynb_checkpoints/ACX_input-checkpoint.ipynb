{
 "cells": [
  {
   "cell_type": "markdown",
   "metadata": {},
   "source": [
    "# Classification of new tracks\n",
    "\n",
    "This code uses the algoritm created from the Emotify dataset to classify new music tracks with emotion tags.\n",
    "\n",
    "This code enables the user to import unlabeled music files, and by running this code, the machine learning model will create a csv. file with emotion tags attached to each file.\n",
    "\n",
    "The first bracket of code imports all necessary libraries:"
   ]
  },
  {
   "cell_type": "code",
   "execution_count": 1,
   "metadata": {
    "scrolled": true
   },
   "outputs": [],
   "source": [
    "#import all necessary libraries\n",
    "import numpy as np\n",
    "import pandas as pd\n",
    "import librosa, librosa.display\n",
    "import sklearn\n",
    "import scipy\n",
    "import matplotlib.pyplot as plt\n",
    "%matplotlib inline\n",
    "import matplotlib.style as ms\n",
    "ms.use('seaborn-muted')\n",
    "import os\n",
    "import joblib\n",
    "import csv"
   ]
  },
  {
   "cell_type": "markdown",
   "metadata": {},
   "source": [
    "## Simpe user interaction\n",
    "\n",
    "In the next code bracket, the user is asked to type in the index folder of all the music files. For this demonstration, the sample folder \"input_files1\" is chosen. It contains a folder of 300 random music files (borrowed from another dataset for this demonstration)."
   ]
  },
  {
   "cell_type": "code",
   "execution_count": 4,
   "metadata": {
    "scrolled": true
   },
   "outputs": [
    {
     "name": "stdout",
     "output_type": "stream",
     "text": [
      "Type in the index folder of the folder that contains the files you want to classify. It must be placed inside the folder \"New_tracks/\", and the tracks must be placed inside another folder called \"tracks\". To just test this notebook with the sample folder, type in \"input_files1\"input_files1\n"
     ]
    },
    {
     "data": {
      "text/html": [
       "<div>\n",
       "<style scoped>\n",
       "    .dataframe tbody tr th:only-of-type {\n",
       "        vertical-align: middle;\n",
       "    }\n",
       "\n",
       "    .dataframe tbody tr th {\n",
       "        vertical-align: top;\n",
       "    }\n",
       "\n",
       "    .dataframe thead th {\n",
       "        text-align: right;\n",
       "    }\n",
       "</style>\n",
       "<table border=\"1\" class=\"dataframe\">\n",
       "  <thead>\n",
       "    <tr style=\"text-align: right;\">\n",
       "      <th></th>\n",
       "      <th>track_id</th>\n",
       "    </tr>\n",
       "  </thead>\n",
       "  <tbody>\n",
       "    <tr>\n",
       "      <th>0</th>\n",
       "      <td>400.mp3</td>\n",
       "    </tr>\n",
       "    <tr>\n",
       "      <th>1</th>\n",
       "      <td>401.mp3</td>\n",
       "    </tr>\n",
       "    <tr>\n",
       "      <th>2</th>\n",
       "      <td>402.mp3</td>\n",
       "    </tr>\n",
       "    <tr>\n",
       "      <th>3</th>\n",
       "      <td>403.mp3</td>\n",
       "    </tr>\n",
       "    <tr>\n",
       "      <th>4</th>\n",
       "      <td>404.mp3</td>\n",
       "    </tr>\n",
       "    <tr>\n",
       "      <th>...</th>\n",
       "      <td>...</td>\n",
       "    </tr>\n",
       "    <tr>\n",
       "      <th>295</th>\n",
       "      <td>695.mp3</td>\n",
       "    </tr>\n",
       "    <tr>\n",
       "      <th>296</th>\n",
       "      <td>696.mp3</td>\n",
       "    </tr>\n",
       "    <tr>\n",
       "      <th>297</th>\n",
       "      <td>697.mp3</td>\n",
       "    </tr>\n",
       "    <tr>\n",
       "      <th>298</th>\n",
       "      <td>698.mp3</td>\n",
       "    </tr>\n",
       "    <tr>\n",
       "      <th>299</th>\n",
       "      <td>699.mp3</td>\n",
       "    </tr>\n",
       "  </tbody>\n",
       "</table>\n",
       "<p>300 rows × 1 columns</p>\n",
       "</div>"
      ],
      "text/plain": [
       "    track_id\n",
       "0    400.mp3\n",
       "1    401.mp3\n",
       "2    402.mp3\n",
       "3    403.mp3\n",
       "4    404.mp3\n",
       "..       ...\n",
       "295  695.mp3\n",
       "296  696.mp3\n",
       "297  697.mp3\n",
       "298  698.mp3\n",
       "299  699.mp3\n",
       "\n",
       "[300 rows x 1 columns]"
      ]
     },
     "execution_count": 4,
     "metadata": {},
     "output_type": "execute_result"
    }
   ],
   "source": [
    "user_folder = input('Type in the index folder of the folder that contains the files you want to classify. It must be placed inside the folder \"New_tracks/\", and the tracks must be placed inside another folder called \"tracks\". To just test this notebook with the sample folder, type in \"input_files1\"')\n",
    "\n",
    "#Creating a new csv file from content of the new folder of mp3s\n",
    "            \n",
    "with open('New_tracks/' + user_folder + '/track_id.csv', 'w', newline='') as f:\n",
    "    w = csv.writer(f)\n",
    "    for path, dirs, files in os.walk('New_tracks/' + user_folder + '/tracks/'):\n",
    "        for filename in files:\n",
    "            w.writerow([filename])\n",
    "            \n",
    "# I want to avoid the .DS_Store file that always appear as the first file in the row. \n",
    "header_name = ['track_id']\n",
    "mycsv = pd.read_csv('New_tracks/' + user_folder + '/track_id.csv', header=None, skiprows=1, names=header_name)\n",
    "\n",
    "mycsv"
   ]
  },
  {
   "cell_type": "markdown",
   "metadata": {},
   "source": [
    "## Extracting features\n",
    "\n",
    "The next code snippet extracts the features of all the new music files. This can be a time consuming process, depending on how many music files you want to classify. All parameters need to be the same as in the ACX_algorithm code."
   ]
  },
  {
   "cell_type": "code",
   "execution_count": 6,
   "metadata": {
    "scrolled": true
   },
   "outputs": [
    {
     "name": "stdout",
     "output_type": "stream",
     "text": [
      "processing .....\n",
      "Done!\n"
     ]
    }
   ],
   "source": [
    "sr = 22050\n",
    "\n",
    "\n",
    "def lin_interp_2d(data, out_size):\n",
    "    \n",
    "    x_in_size = data.shape[1]\n",
    "    y_in_size = data.shape[0]\n",
    "    x_in = np.arange(0,x_in_size)\n",
    "    y_in = np.arange(0,y_in_size)\n",
    "    interpolator = scipy.interpolate.interp2d(x_in, y_in, data, kind='linear')\n",
    "    x_out = np.arange(0,x_in_size-1,((x_in_size-1)/out_size[1]))\n",
    "    y_out = np.arange(0,y_in_size-1,((y_in_size-1)/out_size[0]))\n",
    "    output = interpolator(x_out, y_out)\n",
    "    output = output[0:out_size[0],0:out_size[1]]\n",
    "    \n",
    "    return output\n",
    "\n",
    "def extract_features(filenames, sr):\n",
    "\n",
    "    signal, sr = librosa.load(filenames, sr, mono=True, offset=2, duration=30)\n",
    "\n",
    "    temp0 = librosa.feature.tempogram(signal)\n",
    "    temp1 = librosa.feature.mfcc(signal)\n",
    "\n",
    "    melspect0 = lin_interp_2d(temp0, (15, 10))\n",
    "    melspect1 = lin_interp_2d(temp1, (30, 10))\n",
    "    \n",
    "    feature0 = melspect0.flatten()\n",
    "    feature1 = melspect1.flatten()\n",
    "\n",
    "    output = np.append(feature0, feature1)\n",
    "    return output\n",
    "\n",
    "\n",
    "#Loading files in dataset.\n",
    "\n",
    "features = np.zeros((len(mycsv.index),450)) #we compute the average of 450 features in the above code\n",
    "classes = ['calmness', 'joyful_activation', 'nostalgia', 'power', 'tenderness', 'solemnity', 'sadness', 'tension', 'amazement']\n",
    "\n",
    "import warnings # ignoring warning about PySoundFile failed. Trying audioread instead\n",
    "warnings.filterwarnings('ignore')\n",
    "\n",
    "print('processing .....')\n",
    "for i, row in mycsv.iterrows():\n",
    "    #print('processing',row['track_id'])\n",
    "    features[i,:] = extract_features('New_tracks/' + user_folder + '/tracks/'+row['track_id'], sr)\n",
    "\n",
    "print('Done!')"
   ]
  },
  {
   "cell_type": "markdown",
   "metadata": {},
   "source": [
    "## Applying LDA on the features and predicting labels \n",
    "\n",
    "Just as in the original code (ACX_algorithm.ipynb), we need to apply Linear Discriminant Analysis on the features. Everything that was done to the original dataset needs to be done with the new imported dataset. The Machine Learning Model is then restored from the original code and applied on the new music files to predict the emotion tags.\n"
   ]
  },
  {
   "cell_type": "code",
   "execution_count": 7,
   "metadata": {
    "scrolled": true
   },
   "outputs": [],
   "source": [
    "## LDA on the new dataset\n",
    "\n",
    "restored_lda = joblib.load(\"projected.features\")\n",
    "projected_features = restored_lda.transform(features)\n",
    "\n",
    "#restoring the classifier model from file\n",
    "restored_svm = joblib.load(\"magic.SVM\")\n",
    "\n",
    "#applying the the restored classifier model on the test data\n",
    "lab_predict =  restored_svm.predict(projected_features)\n",
    "\n",
    "#Collecting the emotion tags from the numbers array\n",
    "def num2word(num):\n",
    "    return classes[num]\n",
    "\n",
    "newlist = (np.array(list(map(num2word, lab_predict.astype(int)))))\n",
    "\n",
    "#converting the numpy array to a list\n",
    "new_emotiontags = newlist.tolist()\n",
    "#print(new_emotiontags)\n"
   ]
  },
  {
   "cell_type": "markdown",
   "metadata": {},
   "source": [
    "## Exporting the tags to an excel file\n",
    "\n",
    "The list of music files together with emotion tags are then exported to an csv-file (excel file). "
   ]
  },
  {
   "cell_type": "code",
   "execution_count": 8,
   "metadata": {
    "scrolled": true
   },
   "outputs": [
    {
     "data": {
      "text/html": [
       "<div>\n",
       "<style scoped>\n",
       "    .dataframe tbody tr th:only-of-type {\n",
       "        vertical-align: middle;\n",
       "    }\n",
       "\n",
       "    .dataframe tbody tr th {\n",
       "        vertical-align: top;\n",
       "    }\n",
       "\n",
       "    .dataframe thead th {\n",
       "        text-align: right;\n",
       "    }\n",
       "</style>\n",
       "<table border=\"1\" class=\"dataframe\">\n",
       "  <thead>\n",
       "    <tr style=\"text-align: right;\">\n",
       "      <th></th>\n",
       "      <th>track_id</th>\n",
       "      <th>emotions</th>\n",
       "    </tr>\n",
       "  </thead>\n",
       "  <tbody>\n",
       "    <tr>\n",
       "      <th>0</th>\n",
       "      <td>400.mp3</td>\n",
       "      <td>amazement</td>\n",
       "    </tr>\n",
       "    <tr>\n",
       "      <th>1</th>\n",
       "      <td>401.mp3</td>\n",
       "      <td>calmness</td>\n",
       "    </tr>\n",
       "    <tr>\n",
       "      <th>2</th>\n",
       "      <td>402.mp3</td>\n",
       "      <td>amazement</td>\n",
       "    </tr>\n",
       "    <tr>\n",
       "      <th>3</th>\n",
       "      <td>403.mp3</td>\n",
       "      <td>calmness</td>\n",
       "    </tr>\n",
       "    <tr>\n",
       "      <th>4</th>\n",
       "      <td>404.mp3</td>\n",
       "      <td>nostalgia</td>\n",
       "    </tr>\n",
       "    <tr>\n",
       "      <th>...</th>\n",
       "      <td>...</td>\n",
       "      <td>...</td>\n",
       "    </tr>\n",
       "    <tr>\n",
       "      <th>295</th>\n",
       "      <td>695.mp3</td>\n",
       "      <td>sadness</td>\n",
       "    </tr>\n",
       "    <tr>\n",
       "      <th>296</th>\n",
       "      <td>696.mp3</td>\n",
       "      <td>joyful_activation</td>\n",
       "    </tr>\n",
       "    <tr>\n",
       "      <th>297</th>\n",
       "      <td>697.mp3</td>\n",
       "      <td>joyful_activation</td>\n",
       "    </tr>\n",
       "    <tr>\n",
       "      <th>298</th>\n",
       "      <td>698.mp3</td>\n",
       "      <td>sadness</td>\n",
       "    </tr>\n",
       "    <tr>\n",
       "      <th>299</th>\n",
       "      <td>699.mp3</td>\n",
       "      <td>tenderness</td>\n",
       "    </tr>\n",
       "  </tbody>\n",
       "</table>\n",
       "<p>300 rows × 2 columns</p>\n",
       "</div>"
      ],
      "text/plain": [
       "    track_id           emotions\n",
       "0    400.mp3          amazement\n",
       "1    401.mp3           calmness\n",
       "2    402.mp3          amazement\n",
       "3    403.mp3           calmness\n",
       "4    404.mp3          nostalgia\n",
       "..       ...                ...\n",
       "295  695.mp3            sadness\n",
       "296  696.mp3  joyful_activation\n",
       "297  697.mp3  joyful_activation\n",
       "298  698.mp3            sadness\n",
       "299  699.mp3         tenderness\n",
       "\n",
       "[300 rows x 2 columns]"
      ]
     },
     "execution_count": 8,
     "metadata": {},
     "output_type": "execute_result"
    }
   ],
   "source": [
    "#Creating the new csv file with emotion tags\n",
    "mycsv.to_csv('New_tracks/' + user_folder + '/input_files1.csv', index=False) \n",
    "\n",
    "df = pd.read_csv('New_tracks/' + user_folder + '/input_files1.csv')\n",
    "df[\"emotions\"] = new_emotiontags\n",
    "df.to_csv('New_tracks/' + user_folder + '/input_files1.csv', index=False)\n",
    "\n",
    "df"
   ]
  },
  {
   "cell_type": "code",
   "execution_count": null,
   "metadata": {
    "scrolled": true
   },
   "outputs": [],
   "source": []
  }
 ],
 "metadata": {
  "kernelspec": {
   "display_name": "Python 3",
   "language": "python",
   "name": "python3"
  },
  "language_info": {
   "codemirror_mode": {
    "name": "ipython",
    "version": 3
   },
   "file_extension": ".py",
   "mimetype": "text/x-python",
   "name": "python",
   "nbconvert_exporter": "python",
   "pygments_lexer": "ipython3",
   "version": "3.8.3"
  }
 },
 "nbformat": 4,
 "nbformat_minor": 4
}
