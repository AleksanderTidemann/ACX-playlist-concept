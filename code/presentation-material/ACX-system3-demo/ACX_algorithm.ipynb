{
 "cells": [
  {
   "cell_type": "markdown",
   "metadata": {},
   "source": [
    "# ACX Music Machine Learning algorithm for classification of emotion tags\n",
    "\n",
    "This Jupyter Notebook is presenting the code that was made as a model that is using Machine Learning to connect emotion tags with music. \n",
    "\n",
    "The algorithm is based upon the [Emotify dataset](http://www2.projects.science.uu.nl/memotion/emotifydata/) that contains a folder of 400 mp3-files; 1 minute of length music files in four genres. All of the mp3-files have been given an average of emotion tags that were collected from a number of different people. \n",
    "\n",
    "This code is using musical features (like tempo, tonality, and volume) to create a machine learning algorithm that can be applied with new music to annotate emotion tags to the tracks. \n",
    "\n",
    "This code should be seen as a prototype or as an idea of concept, that can be expanded and researched further upon. The code itself is based upon a code that was created and provided by associate professor Stefano Fasciani through the course Music and Machine Learning (University of Oslo), and has been modified and adjusted for this particular purpose by Mari Lesteberg, autumn 2020. \n",
    "\n",
    "The emotion annotations are: \n",
    "\n",
    "| Emotional category   \t| Explanation                                          \t|\n",
    "|----------------------\t|------------------------------------------------------\t|\n",
    "| Amazement:           \t| Feeling of wonder and happiness                      \t|\n",
    "| Solemnity:           \t| Feeling of transcendence, inspiration. Thrills       \t|\n",
    "| Tenderness:          \t| Sensuality, affect, feeling of love                  \t|\n",
    "| Nostalgia:           \t| Dreamy, melancholic, sentimental feelings            \t|\n",
    "| Calmness:            \t| Relaxation, serenity, meditativeness                 \t|\n",
    "| Power:               \t| Feeling strong, heroic, triumphant, energetic        \t|\n",
    "| Joyful activation:   \t| Feels like dancing, bouncy feeling, animated, amused \t|\n",
    "| Tension:             \t| Nervous, impatient, irritated                        \t|\n",
    "| Sadness:             \t| Depressed, sorrowful                                 \t|\n",
    "\n",
    "The first bracket of code is importing all necessary libraries:"
   ]
  },
  {
   "cell_type": "code",
   "execution_count": 1,
   "metadata": {
    "scrolled": true
   },
   "outputs": [],
   "source": [
    "#import all necessary libraries\n",
    "import numpy as np\n",
    "import pandas as pd\n",
    "import librosa, librosa.display\n",
    "import sklearn\n",
    "import scipy\n",
    "import matplotlib.pyplot as plt\n",
    "%matplotlib inline\n",
    "import matplotlib.style as ms\n",
    "ms.use('seaborn-muted')\n",
    "import IPython.display as Ipd\n",
    "import os\n",
    "import joblib"
   ]
  },
  {
   "cell_type": "markdown",
   "metadata": {},
   "source": [
    "## Importing the metadata\n",
    "\n",
    "The following bracket of code is importing the emotion tags from the dataset. The emotion tags were sourced from a .csv (excel) file."
   ]
  },
  {
   "cell_type": "code",
   "execution_count": 5,
   "metadata": {
    "scrolled": true
   },
   "outputs": [
    {
     "data": {
      "text/html": [
       "<div>\n",
       "<style scoped>\n",
       "    .dataframe tbody tr th:only-of-type {\n",
       "        vertical-align: middle;\n",
       "    }\n",
       "\n",
       "    .dataframe tbody tr th {\n",
       "        vertical-align: top;\n",
       "    }\n",
       "\n",
       "    .dataframe thead th {\n",
       "        text-align: right;\n",
       "    }\n",
       "</style>\n",
       "<table border=\"1\" class=\"dataframe\">\n",
       "  <thead>\n",
       "    <tr style=\"text-align: right;\">\n",
       "      <th></th>\n",
       "      <th>track_id</th>\n",
       "      <th>emotions</th>\n",
       "    </tr>\n",
       "  </thead>\n",
       "  <tbody>\n",
       "    <tr>\n",
       "      <th>0</th>\n",
       "      <td>1.mp3</td>\n",
       "      <td>calmness</td>\n",
       "    </tr>\n",
       "    <tr>\n",
       "      <th>1</th>\n",
       "      <td>2.mp3</td>\n",
       "      <td>calmness</td>\n",
       "    </tr>\n",
       "    <tr>\n",
       "      <th>2</th>\n",
       "      <td>3.mp3</td>\n",
       "      <td>joyful_activation</td>\n",
       "    </tr>\n",
       "    <tr>\n",
       "      <th>3</th>\n",
       "      <td>4.mp3</td>\n",
       "      <td>calmness</td>\n",
       "    </tr>\n",
       "    <tr>\n",
       "      <th>4</th>\n",
       "      <td>5.mp3</td>\n",
       "      <td>nostalgia</td>\n",
       "    </tr>\n",
       "    <tr>\n",
       "      <th>...</th>\n",
       "      <td>...</td>\n",
       "      <td>...</td>\n",
       "    </tr>\n",
       "    <tr>\n",
       "      <th>395</th>\n",
       "      <td>396.mp3</td>\n",
       "      <td>nostalgia</td>\n",
       "    </tr>\n",
       "    <tr>\n",
       "      <th>396</th>\n",
       "      <td>397.mp3</td>\n",
       "      <td>sadness</td>\n",
       "    </tr>\n",
       "    <tr>\n",
       "      <th>397</th>\n",
       "      <td>398.mp3</td>\n",
       "      <td>joyful_activation</td>\n",
       "    </tr>\n",
       "    <tr>\n",
       "      <th>398</th>\n",
       "      <td>399.mp3</td>\n",
       "      <td>calmness</td>\n",
       "    </tr>\n",
       "    <tr>\n",
       "      <th>399</th>\n",
       "      <td>400.mp3</td>\n",
       "      <td>tension</td>\n",
       "    </tr>\n",
       "  </tbody>\n",
       "</table>\n",
       "<p>400 rows × 2 columns</p>\n",
       "</div>"
      ],
      "text/plain": [
       "    track_id           emotions\n",
       "0      1.mp3           calmness\n",
       "1      2.mp3           calmness\n",
       "2      3.mp3  joyful_activation\n",
       "3      4.mp3           calmness\n",
       "4      5.mp3          nostalgia\n",
       "..       ...                ...\n",
       "395  396.mp3          nostalgia\n",
       "396  397.mp3            sadness\n",
       "397  398.mp3  joyful_activation\n",
       "398  399.mp3           calmness\n",
       "399  400.mp3            tension\n",
       "\n",
       "[400 rows x 2 columns]"
      ]
     },
     "execution_count": 5,
     "metadata": {},
     "output_type": "execute_result"
    }
   ],
   "source": [
    "# The csv file 'df_bin_sorted.csv' is a simplified version of the 'data.csv' provided by the Emotify dataset,\n",
    "# with emotion data only, and converted to binary values. \n",
    "\n",
    "metadata = pd.read_csv('df_bin_sorted.csv')\n",
    "\n",
    "# In the following code, this binary data is \n",
    "# used to create a new column with the emotion tags.\n",
    "\n",
    "def get_emotion(row):\n",
    "    for c in metadata.columns[1:]:\n",
    "        if row[c]==1:\n",
    "            return c\n",
    "metadata_finish = pd.DataFrame([])\n",
    "metadata_finish[\"track_id\"] = metadata[\"track_id\"].astype(str).apply(lambda x: x + \".mp3\")\n",
    "metadata_finish[\"emotions\"] = metadata.apply(get_emotion, axis=1)\n",
    "#finding unique labels (i.e. how many different classes in the dataset)\n",
    "classes = list(metadata_finish.emotions.unique()) # finding unique elements in the 'label' column\n",
    "#print('There are',len(classes),'different classes:',classes)\n",
    "#Uncomment the following line to sort the tracks by emotion tags:\n",
    "#metadata_finish = metadata_finish.sort_values(\"emotions\")\n",
    "\n",
    "#Displaying the tracks with emotion tags\n",
    "metadata_finish\n"
   ]
  },
  {
   "cell_type": "markdown",
   "metadata": {},
   "source": [
    "## Collecting features\n",
    "The next bracket of code collects features from the 400 audio files. The feature extracters tempogram and mfcc (mel-frequency cepstral coefficents) are chosen for this prototype. The processing of the audio files is a time taking process, so one should be patient. In case of silence in beginning of tracks, the offset is set to 2 seconds, and duration is set to 30 seconds."
   ]
  },
  {
   "cell_type": "code",
   "execution_count": 6,
   "metadata": {
    "scrolled": false
   },
   "outputs": [
    {
     "name": "stdout",
     "output_type": "stream",
     "text": [
      "processing .....\n",
      "Done!\n"
     ]
    }
   ],
   "source": [
    "#Sample rate set to 22050 to make the algorithm run quicker\n",
    "sr = 22050\n",
    "\n",
    "# Interpolating code provided my Stefano Fasciani in the MCT4047 Music and machine learning course.\n",
    "\n",
    "def lin_interp_2d(data, out_size):\n",
    "    \n",
    "    x_in_size = data.shape[1]\n",
    "    y_in_size = data.shape[0]\n",
    "    x_in = np.arange(0,x_in_size)\n",
    "    y_in = np.arange(0,y_in_size)\n",
    "    interpolator = scipy.interpolate.interp2d(x_in, y_in, data, kind='linear')\n",
    "    x_out = np.arange(0,x_in_size-1,((x_in_size-1)/out_size[1]))\n",
    "    y_out = np.arange(0,y_in_size-1,((y_in_size-1)/out_size[0]))\n",
    "    output = interpolator(x_out, y_out)\n",
    "    output = output[0:out_size[0],0:out_size[1]]\n",
    "    \n",
    "    return output\n",
    "\n",
    "\n",
    "# Using tempoogram and MFCC for feature extraction. In case of silence in beginning of tracks, \n",
    "# the offset is set to 2, and duration is set to 30 to be sure to capture the essence of the track\n",
    "\n",
    "def extract_features(track_id, sr):\n",
    "\n",
    "    signal, sr = librosa.load(track_id, sr, mono=True, offset=2, duration=30)\n",
    "\n",
    "    temp = librosa.feature.tempogram(signal)\n",
    "    temp2 = librosa.feature.mfcc(signal)\n",
    "\n",
    "    melspect1 = lin_interp_2d(temp, (15, 10))\n",
    "    melspect2 = lin_interp_2d(temp2, (30, 10))\n",
    "    \n",
    "    feature1 = melspect1.flatten()\n",
    "    feature2 = melspect2.flatten()\n",
    "\n",
    "    output = np.append(feature1, feature2)\n",
    "    return output\n",
    "\n",
    "\n",
    "features = np.zeros((len(metadata_finish.index),450)) \n",
    "labels = np.zeros((len(metadata_finish.index))) \n",
    "\n",
    "import warnings # ignoring warning about PySoundFile failed. Trying audioread instead\n",
    "warnings.filterwarnings('ignore')\n",
    "\n",
    "print('processing .....')\n",
    "\n",
    "for i, row in metadata_finish.iterrows():\n",
    "    #print('processing',row['track_id'])\n",
    "    features[i,:] = extract_features('Music_database/dataset_1-400/'+row['track_id'], sr)\n",
    "    labels[i] = (classes.index(row['emotions']))\n",
    "\n",
    "print('Done!')"
   ]
  },
  {
   "cell_type": "markdown",
   "metadata": {},
   "source": [
    "# Applying Linear Discriminant Analysis\n",
    "\n",
    "Linear Discriminant Analysis is applied to the features to reduce the dimentionality. In other words, a number of 450 feature dimentions is reduced to a number of 8. The illustration shows how the 400 tracks are forming clusters, grouped by emotion tags."
   ]
  },
  {
   "cell_type": "code",
   "execution_count": 10,
   "metadata": {
    "scrolled": true
   },
   "outputs": [
    {
     "name": "stdout",
     "output_type": "stream",
     "text": [
      "(400, 8)\n"
     ]
    },
    {
     "data": {
      "image/png": "[encoded data removed]",
      "text/plain": [
       "<Figure size 576x576 with 1 Axes>"
      ]
     },
     "metadata": {},
     "output_type": "display_data"
    }
   ],
   "source": [
    "# LDA\n",
    "from sklearn.discriminant_analysis import LinearDiscriminantAnalysis\n",
    "lda = LinearDiscriminantAnalysis()\n",
    "\n",
    "lda.fit(features, labels)\n",
    "\n",
    "projected_features = lda.transform(features)\n",
    "\n",
    "# Saving the LDA to a joblib file\n",
    "joblib_file = \"projected.features\"\n",
    "joblib.dump(lda, joblib_file)\n",
    "\n",
    "print(projected_features.shape)\n",
    "\n",
    "#Plotting to show how the tracks were classified\n",
    "with plt.style.context('seaborn-whitegrid'):\n",
    "    plt.figure(figsize=(8, 8))\n",
    "    for lab_val, lab_name in zip(range(0,len(classes)),classes):\n",
    "        plt.scatter(projected_features[labels==lab_val, 1],\n",
    "                    projected_features[labels==lab_val, 4],\n",
    "                    label=lab_name)\n",
    "    plt.xlabel('1st LDA Component')\n",
    "    plt.ylabel('2nd LDA Component')\n",
    "    plt.legend(loc='lower center')\n",
    "    plt.tight_layout()\n",
    "    plt.show()"
   ]
  },
  {
   "cell_type": "markdown",
   "metadata": {},
   "source": [
    "# The Machine Learning\n",
    "\n",
    "The following code bracket is splitting the features and labels into testing and training groups (30/70), followed by the actual machine learning algorithm (a support vector machine).\n",
    "\n",
    "0 of 120 music files were wrongly classified, and the model succeeds with 100 % accuracy.\n",
    "\n",
    "The machine learning model is exported as a file that can be used to label new music tracks."
   ]
  },
  {
   "cell_type": "code",
   "execution_count": 11,
   "metadata": {
    "scrolled": true
   },
   "outputs": [
    {
     "name": "stdout",
     "output_type": "stream",
     "text": [
      "Number of mislabeled samples 0 out of 120\n",
      "Accuracy: 1.0\n"
     ]
    }
   ],
   "source": [
    "#Splitting the set of features into testing and testing set\n",
    "from sklearn.model_selection import train_test_split\n",
    "\n",
    "feat_train, feat_test, lab_train, lab_test = train_test_split(projected_features, labels, test_size=0.3, random_state=776)\n",
    "\n",
    "\n",
    "#Creating an instance of a SVM classifier\n",
    "#and setting it to use a linear kernel\n",
    "model_SVM = sklearn.svm.SVC(kernel='linear', C=1.0)\n",
    "\n",
    "#training the model\n",
    "model_SVM.fit(feat_train, lab_train)\n",
    "\n",
    "joblib_file3 = \"magic.SVM\"\n",
    "joblib.dump(model_SVM, joblib_file3)\n",
    "\n",
    "#applying the the model on the test data (features)\n",
    "lab_predict =  model_SVM.predict(feat_test)\n",
    "\n",
    "\n",
    "#print the number of misclassified samples, accuracy and complete report (using scikit learn metric tools) \n",
    "print('Number of mislabeled samples %d out of %d' % ((lab_test != lab_predict).sum(),lab_test.size))\n",
    "print('Accuracy:',sklearn.metrics.accuracy_score(lab_test, lab_predict))"
   ]
  },
  {
   "cell_type": "code",
   "execution_count": 7,
   "metadata": {
    "scrolled": true
   },
   "outputs": [
    {
     "name": "stdout",
     "output_type": "stream",
     "text": [
      "              precision    recall  f1-score   support\n",
      "\n",
      "         0.0       1.00      1.00      1.00        30\n",
      "         1.0       1.00      1.00      1.00        23\n",
      "         2.0       1.00      1.00      1.00        20\n",
      "         3.0       1.00      1.00      1.00         9\n",
      "         4.0       1.00      1.00      1.00        13\n",
      "         5.0       1.00      1.00      1.00         6\n",
      "         6.0       1.00      1.00      1.00         4\n",
      "         7.0       1.00      1.00      1.00        13\n",
      "         8.0       1.00      1.00      1.00         2\n",
      "\n",
      "    accuracy                           1.00       120\n",
      "   macro avg       1.00      1.00      1.00       120\n",
      "weighted avg       1.00      1.00      1.00       120\n",
      "\n",
      "[[30  0  0  0  0  0  0  0  0]\n",
      " [ 0 23  0  0  0  0  0  0  0]\n",
      " [ 0  0 20  0  0  0  0  0  0]\n",
      " [ 0  0  0  9  0  0  0  0  0]\n",
      " [ 0  0  0  0 13  0  0  0  0]\n",
      " [ 0  0  0  0  0  6  0  0  0]\n",
      " [ 0  0  0  0  0  0  4  0  0]\n",
      " [ 0  0  0  0  0  0  0 13  0]\n",
      " [ 0  0  0  0  0  0  0  0  2]]\n"
     ]
    }
   ],
   "source": [
    "#computing a comprehensive set of performance metrics\n",
    "print(sklearn.metrics.classification_report(lab_test, lab_predict))\n",
    "\n",
    "print(sklearn.metrics.confusion_matrix(lab_test, lab_predict))"
   ]
  }
 ],
 "metadata": {
  "kernelspec": {
   "display_name": "Python 3",
   "language": "python",
   "name": "python3"
  },
  "language_info": {
   "codemirror_mode": {
    "name": "ipython",
    "version": 3
   },
   "file_extension": ".py",
   "mimetype": "text/x-python",
   "name": "python",
   "nbconvert_exporter": "python",
   "pygments_lexer": "ipython3",
   "version": "3.8.3"
  }
 },
 "nbformat": 4,
 "nbformat_minor": 4
}
